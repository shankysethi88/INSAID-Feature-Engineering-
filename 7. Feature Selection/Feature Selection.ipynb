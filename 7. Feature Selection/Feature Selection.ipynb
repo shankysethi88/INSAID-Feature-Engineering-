{
 "cells": [
  {
   "cell_type": "markdown",
   "metadata": {
    "colab_type": "text",
    "id": "V7i7Mb3WKWtI"
   },
   "source": [
    "<center><img src=\"https://github.com/insaid2018/Term-1/blob/master/Images/INSAID_Full%20Logo.png?raw=true\" width=\"240\" height=\"120\" /></center>\n",
    "\n",
    "<h1><center><strong>Feature Selection</strong></center></h1>"
   ]
  },
  {
   "cell_type": "markdown",
   "metadata": {
    "colab_type": "text",
    "id": "LKqoTLYsbj63"
   },
   "source": [
    "# **Table of Contents**\n",
    "\n",
    "1. [Introduction](#Section1)<br><br>\n",
    "2. [Univariate Selection](#Section2)<br><br>\n",
    "3. [Recursive Feature Elimination (RFE)](#Section3)<br><br>\n",
    "4. [Principal Component Analysis (PCA)](#Section4)<br><br>\n",
    "5. [Choosing Important Features (Feature Importance)](#Section5)"
   ]
  },
  {
   "cell_type": "markdown",
   "metadata": {
    "colab_type": "text",
    "id": "VFFHMw3ww_d2"
   },
   "source": [
    "<a id = Section1></a>\n",
    "### **1. Introduction**"
   ]
  },
  {
   "cell_type": "markdown",
   "metadata": {
    "colab_type": "text",
    "id": "GuLnZebjfUD4"
   },
   "source": [
    "- **Not all features** are created **equal**. \n",
    "  \n",
    "  - Those attributes that are **irrelevant** to the problem need to be **removed**.\n",
    "  \n",
    "  - There will be some **features** that will be **more important** than others to the model accuracy.\n",
    "\n",
    "  - There will also be features that will be **redundant** in the context of other features.\n",
    "\n",
    "  - Feature selection **addresses** all these problem.\n",
    "\n",
    "<br> \n",
    "\n",
    "- **Feature selection** is a process where you **automatically select** those **features** in your data that contribute **most** to the **prediction** variable or output in which you are interested.\n",
    "\n",
    "- Having **irrelevant features** in your data can **decrease** the **accuracy** of many models, especially linear algorithms like linear and logistic regression.\n",
    "\n",
    "<br> \n",
    "\n",
    "- **Advantages** of Feature Selection:\n",
    "\n",
    "  - **Reduces Overfitting**: Less redundant data means less opportunity to make decisions based on noise.\n",
    "\n",
    "  - **Improves Accuracy**: Less misleading data means modeling accuracy improves.\n",
    "\n",
    "  - **Reduces Training Time**: Fewer data points reduce algorithm complexity and algorithms train faster.\n",
    "\n",
    "<br> \n",
    "\n",
    "- **Types** of Feature Selection Algorithms:\n",
    "\n",
    "  - **Univariate Selection**\n",
    "\n",
    "  - **Recursive Feature Elimination** (**RFE**)\n",
    "\n",
    "  - **Principal Component Analysis** (**PCA**)\n",
    "\n",
    "  - **Choosing Important Features** (**Feature Importance**)"
   ]
  },
  {
   "cell_type": "code",
   "execution_count": 1,
   "metadata": {
    "colab": {},
    "colab_type": "code",
    "id": "2z8OpBb5f9pV"
   },
   "outputs": [],
   "source": [
    "import numpy as np\n",
    "import pandas as pd"
   ]
  },
  {
   "cell_type": "markdown",
   "metadata": {
    "colab_type": "text",
    "id": "HqnFqKIj4ReS"
   },
   "source": [
    "**Loading the Dataset**"
   ]
  },
  {
   "cell_type": "markdown",
   "metadata": {
    "colab_type": "text",
    "id": "J7M3Lt3HnhVq"
   },
   "source": [
    "- We will be using the **Diabetes** dataset.\n",
    "\n",
    "- The Diabetes dataset involves **predicting** the **onset of diabetes** within 5 years in given medical details."
   ]
  },
  {
   "cell_type": "code",
   "execution_count": 2,
   "metadata": {
    "colab": {
     "base_uri": "https://localhost:8080/",
     "height": 195
    },
    "colab_type": "code",
    "executionInfo": {
     "elapsed": 3657,
     "status": "ok",
     "timestamp": 1591690811931,
     "user": {
      "displayName": "Mohit Raj",
      "photoUrl": "",
      "userId": "08119631072718595861"
     },
     "user_tz": -330
    },
    "id": "crbs_YtVf_di",
    "outputId": "26dd3a9b-f775-4766-99fb-a3584ecbf76d"
   },
   "outputs": [
    {
     "data": {
      "text/html": [
       "<div>\n",
       "<style scoped>\n",
       "    .dataframe tbody tr th:only-of-type {\n",
       "        vertical-align: middle;\n",
       "    }\n",
       "\n",
       "    .dataframe tbody tr th {\n",
       "        vertical-align: top;\n",
       "    }\n",
       "\n",
       "    .dataframe thead th {\n",
       "        text-align: right;\n",
       "    }\n",
       "</style>\n",
       "<table border=\"1\" class=\"dataframe\">\n",
       "  <thead>\n",
       "    <tr style=\"text-align: right;\">\n",
       "      <th></th>\n",
       "      <th>preg</th>\n",
       "      <th>plas</th>\n",
       "      <th>pres</th>\n",
       "      <th>skin</th>\n",
       "      <th>test</th>\n",
       "      <th>mass</th>\n",
       "      <th>pedi</th>\n",
       "      <th>age</th>\n",
       "      <th>class</th>\n",
       "    </tr>\n",
       "  </thead>\n",
       "  <tbody>\n",
       "    <tr>\n",
       "      <th>0</th>\n",
       "      <td>6</td>\n",
       "      <td>148</td>\n",
       "      <td>72</td>\n",
       "      <td>35</td>\n",
       "      <td>0</td>\n",
       "      <td>33.6</td>\n",
       "      <td>0.627</td>\n",
       "      <td>50</td>\n",
       "      <td>1</td>\n",
       "    </tr>\n",
       "    <tr>\n",
       "      <th>1</th>\n",
       "      <td>1</td>\n",
       "      <td>85</td>\n",
       "      <td>66</td>\n",
       "      <td>29</td>\n",
       "      <td>0</td>\n",
       "      <td>26.6</td>\n",
       "      <td>0.351</td>\n",
       "      <td>31</td>\n",
       "      <td>0</td>\n",
       "    </tr>\n",
       "    <tr>\n",
       "      <th>2</th>\n",
       "      <td>8</td>\n",
       "      <td>183</td>\n",
       "      <td>64</td>\n",
       "      <td>0</td>\n",
       "      <td>0</td>\n",
       "      <td>23.3</td>\n",
       "      <td>0.672</td>\n",
       "      <td>32</td>\n",
       "      <td>1</td>\n",
       "    </tr>\n",
       "    <tr>\n",
       "      <th>3</th>\n",
       "      <td>1</td>\n",
       "      <td>89</td>\n",
       "      <td>66</td>\n",
       "      <td>23</td>\n",
       "      <td>94</td>\n",
       "      <td>28.1</td>\n",
       "      <td>0.167</td>\n",
       "      <td>21</td>\n",
       "      <td>0</td>\n",
       "    </tr>\n",
       "    <tr>\n",
       "      <th>4</th>\n",
       "      <td>0</td>\n",
       "      <td>137</td>\n",
       "      <td>40</td>\n",
       "      <td>35</td>\n",
       "      <td>168</td>\n",
       "      <td>43.1</td>\n",
       "      <td>2.288</td>\n",
       "      <td>33</td>\n",
       "      <td>1</td>\n",
       "    </tr>\n",
       "  </tbody>\n",
       "</table>\n",
       "</div>"
      ],
      "text/plain": [
       "   preg  plas  pres  skin  test  mass   pedi  age  class\n",
       "0     6   148    72    35     0  33.6  0.627   50      1\n",
       "1     1    85    66    29     0  26.6  0.351   31      0\n",
       "2     8   183    64     0     0  23.3  0.672   32      1\n",
       "3     1    89    66    23    94  28.1  0.167   21      0\n",
       "4     0   137    40    35   168  43.1  2.288   33      1"
      ]
     },
     "execution_count": 2,
     "metadata": {},
     "output_type": "execute_result"
    }
   ],
   "source": [
    "# Load data\n",
    "names = ['preg', 'plas', 'pres', 'skin', 'test', 'mass', 'pedi', 'age', 'class']\n",
    "dataframe = pd.read_csv('https://raw.githubusercontent.com/insaid2018/Term-2/master/Data/pima-indians-diabetes.csv', names=names)\n",
    "dataframe.head()"
   ]
  },
  {
   "cell_type": "code",
   "execution_count": 3,
   "metadata": {
    "colab": {
     "base_uri": "https://localhost:8080/",
     "height": 286
    },
    "colab_type": "code",
    "executionInfo": {
     "elapsed": 2121,
     "status": "ok",
     "timestamp": 1591690813263,
     "user": {
      "displayName": "Mohit Raj",
      "photoUrl": "",
      "userId": "08119631072718595861"
     },
     "user_tz": -330
    },
    "id": "E9zQOrOT4FE5",
    "outputId": "43df911b-d8da-485f-9c5d-595c1e7ce225"
   },
   "outputs": [
    {
     "name": "stdout",
     "output_type": "stream",
     "text": [
      "<class 'pandas.core.frame.DataFrame'>\n",
      "RangeIndex: 768 entries, 0 to 767\n",
      "Data columns (total 9 columns):\n",
      " #   Column  Non-Null Count  Dtype  \n",
      "---  ------  --------------  -----  \n",
      " 0   preg    768 non-null    int64  \n",
      " 1   plas    768 non-null    int64  \n",
      " 2   pres    768 non-null    int64  \n",
      " 3   skin    768 non-null    int64  \n",
      " 4   test    768 non-null    int64  \n",
      " 5   mass    768 non-null    float64\n",
      " 6   pedi    768 non-null    float64\n",
      " 7   age     768 non-null    int64  \n",
      " 8   class   768 non-null    int64  \n",
      "dtypes: float64(2), int64(7)\n",
      "memory usage: 54.1 KB\n"
     ]
    }
   ],
   "source": [
    "dataframe.info()"
   ]
  },
  {
   "cell_type": "markdown",
   "metadata": {
    "colab_type": "text",
    "id": "TOxyAJiNntWN"
   },
   "source": [
    "- There are **768** samples in the data, and **9** variables."
   ]
  },
  {
   "cell_type": "markdown",
   "metadata": {
    "colab_type": "text",
    "id": "Zj6D-WfmfUWg"
   },
   "source": [
    "<a id = Section2></a>\n",
    "### **2. Univariate Selection**"
   ]
  },
  {
   "cell_type": "markdown",
   "metadata": {
    "colab_type": "text",
    "id": "Z9QxyCJ5fqop"
   },
   "source": [
    "- **Statistical tests** can be used to **select** those **features** that have the **strongest relationships** with the **output** variable.\n",
    "\n",
    "- The scikit-learn library provides the `SelectKBest` class, which can be **used** with a suite of different **statistical tests** to **select** a specific number of **features**.\n",
    "\n",
    "- For example the **ANOVA F-value method** is appropriate for **numerical inputs** and **categorical** data."
   ]
  },
  {
   "cell_type": "code",
   "execution_count": 4,
   "metadata": {
    "colab": {},
    "colab_type": "code",
    "id": "v7Bb3wuAfrJK"
   },
   "outputs": [],
   "source": [
    "from sklearn.feature_selection import SelectKBest\n",
    "from sklearn.feature_selection import f_classif"
   ]
  },
  {
   "cell_type": "markdown",
   "metadata": {
    "colab_type": "text",
    "id": "1CVhF90QKc8l"
   },
   "source": [
    "- **Creating** an **array** of dataset values."
   ]
  },
  {
   "cell_type": "code",
   "execution_count": 5,
   "metadata": {
    "colab": {},
    "colab_type": "code",
    "id": "YBw5abgzgFhe"
   },
   "outputs": [],
   "source": [
    "array = dataframe.values"
   ]
  },
  {
   "cell_type": "markdown",
   "metadata": {
    "colab_type": "text",
    "id": "p6JWGrjvKoQY"
   },
   "source": [
    "- **Splitting** the data into a **feature matrix**, **X** and **target variable**, **Y**."
   ]
  },
  {
   "cell_type": "code",
   "execution_count": 6,
   "metadata": {
    "colab": {},
    "colab_type": "code",
    "id": "jpo2ueYngNZC"
   },
   "outputs": [],
   "source": [
    "X = array[:, 0:8]\n",
    "Y = array[:, 8]"
   ]
  },
  {
   "cell_type": "markdown",
   "metadata": {
    "colab_type": "text",
    "id": "22OjMx7jKxUW"
   },
   "source": [
    "- Using `SelectKBest` to select the **4** best features.\n",
    "\n",
    "- We will be applying the **ANOVA F-value method** via the `f_classif()` function."
   ]
  },
  {
   "cell_type": "code",
   "execution_count": 7,
   "metadata": {
    "colab": {},
    "colab_type": "code",
    "id": "H3AlItBugPcu"
   },
   "outputs": [],
   "source": [
    "# Feature extraction\n",
    "test = SelectKBest(score_func=f_classif, k=4)\n",
    "fit = test.fit(X, Y)"
   ]
  },
  {
   "cell_type": "code",
   "execution_count": 8,
   "metadata": {
    "colab": {
     "base_uri": "https://localhost:8080/",
     "height": 34
    },
    "colab_type": "code",
    "executionInfo": {
     "elapsed": 2515,
     "status": "ok",
     "timestamp": 1591691420874,
     "user": {
      "displayName": "Mohit Raj",
      "photoUrl": "",
      "userId": "08119631072718595861"
     },
     "user_tz": -330
    },
    "id": "a4-nphr0frAw",
    "outputId": "f2290a75-d2e5-48bb-fc6c-049e7ffa3e62"
   },
   "outputs": [
    {
     "name": "stdout",
     "output_type": "stream",
     "text": [
      "[ 39.67  213.162   3.257   4.304  13.281  71.772  23.871  46.141]\n"
     ]
    }
   ],
   "source": [
    "# Summarize scores\n",
    "np.set_printoptions(precision=3)\n",
    "print(fit.scores_)"
   ]
  },
  {
   "cell_type": "code",
   "execution_count": 9,
   "metadata": {
    "colab": {},
    "colab_type": "code",
    "id": "kQZ3fcRhMsUt"
   },
   "outputs": [],
   "source": [
    "# Creating a list of feature names\n",
    "feature_names = dataframe.iloc[:, 0:8].columns"
   ]
  },
  {
   "cell_type": "code",
   "execution_count": 10,
   "metadata": {
    "colab": {
     "base_uri": "https://localhost:8080/",
     "height": 151
    },
    "colab_type": "code",
    "executionInfo": {
     "elapsed": 1969,
     "status": "ok",
     "timestamp": 1591691461371,
     "user": {
      "displayName": "Mohit Raj",
      "photoUrl": "",
      "userId": "08119631072718595861"
     },
     "user_tz": -330
    },
    "id": "1I1bGVGdMsUx",
    "outputId": "5a8b12fe-b45b-4b79-bc82-998b8cdb0e84"
   },
   "outputs": [
    {
     "name": "stdout",
     "output_type": "stream",
     "text": [
      "Feature Score of plas : 213.16175217803828\n",
      "Feature Score of mass : 71.7720721022405\n",
      "Feature Score of age : 46.140611238735865\n",
      "Feature Score of preg : 39.670227393616116\n",
      "Feature Score of pedi : 23.871300204344593\n",
      "Feature Score of test : 13.281107531096337\n",
      "Feature Score of skin : 4.304380905008516\n",
      "Feature Score of pres : 3.256950397889028\n"
     ]
    }
   ],
   "source": [
    "# Checking the scores of various features.\n",
    "# Sorting the scores by descending order (lowest scores at the bottom).\n",
    "\n",
    "for score, name in sorted(zip(fit.scores_, feature_names), reverse=True):\n",
    "    print('Feature Score of', name, ':', score)"
   ]
  },
  {
   "cell_type": "markdown",
   "metadata": {
    "colab_type": "text",
    "id": "2S70mS2cMYEp"
   },
   "source": [
    "- We can see the **scores** for **each attribute** and the **4** attributes chosen (those with the **highest scores**).\n",
    "\n",
    "- Specifically features with indexes **0** (**preq**), **1** (**plas**), **5** (**mass**), and **7** (**age**).\n",
    "\n",
    "- We will create an **array** consisting of only the **4 most important features**."
   ]
  },
  {
   "cell_type": "code",
   "execution_count": 11,
   "metadata": {
    "colab": {},
    "colab_type": "code",
    "id": "N8nzt35zgReC"
   },
   "outputs": [],
   "source": [
    "features = fit.transform(X)"
   ]
  },
  {
   "cell_type": "code",
   "execution_count": 12,
   "metadata": {
    "colab": {
     "base_uri": "https://localhost:8080/",
     "height": 101
    },
    "colab_type": "code",
    "executionInfo": {
     "elapsed": 1545,
     "status": "ok",
     "timestamp": 1591691586054,
     "user": {
      "displayName": "Mohit Raj",
      "photoUrl": "",
      "userId": "08119631072718595861"
     },
     "user_tz": -330
    },
    "id": "5FlEyI-rgRVa",
    "outputId": "f42c753e-e7f8-4d64-e67b-67c6844a01ee"
   },
   "outputs": [
    {
     "name": "stdout",
     "output_type": "stream",
     "text": [
      "[[  6.  148.   33.6  50. ]\n",
      " [  1.   85.   26.6  31. ]\n",
      " [  8.  183.   23.3  32. ]\n",
      " [  1.   89.   28.1  21. ]\n",
      " [  0.  137.   43.1  33. ]]\n"
     ]
    }
   ],
   "source": [
    "# Summarize selected features\n",
    "print(features[0:5, :])"
   ]
  },
  {
   "cell_type": "markdown",
   "metadata": {
    "colab_type": "text",
    "id": "u7Qhxcamfrae"
   },
   "source": [
    "- The **features** array consists of only the **4** best features, and can be used to train a model."
   ]
  },
  {
   "cell_type": "markdown",
   "metadata": {
    "colab_type": "text",
    "id": "l1lGu9_4ffJd"
   },
   "source": [
    "<a id = Section3></a>\n",
    "### **3. Recursive Feature Elimination (RFE)**"
   ]
  },
  {
   "cell_type": "markdown",
   "metadata": {
    "colab_type": "text",
    "id": "FYJG33_ofs-V"
   },
   "source": [
    "- The **Recursive Feature Elimination** (or **RFE**) works by **recursively removing attributes** and building a model on those attributes that remain.\n",
    "\n",
    "- It uses the **model accuracy** to **identify** which attributes (and combination of attributes) **contribute** the **most** to predicting the target attribute."
   ]
  },
  {
   "cell_type": "code",
   "execution_count": 13,
   "metadata": {
    "colab": {},
    "colab_type": "code",
    "id": "gz81yp7tfs-X"
   },
   "outputs": [],
   "source": [
    "from sklearn.feature_selection import RFE\n",
    "from sklearn.linear_model import LogisticRegression"
   ]
  },
  {
   "cell_type": "code",
   "execution_count": 14,
   "metadata": {
    "colab": {},
    "colab_type": "code",
    "id": "21i_cfxPhEbC"
   },
   "outputs": [],
   "source": [
    "array = dataframe.values"
   ]
  },
  {
   "cell_type": "code",
   "execution_count": 15,
   "metadata": {
    "colab": {},
    "colab_type": "code",
    "id": "WNGI1jJChEbM"
   },
   "outputs": [],
   "source": [
    "X = array[:, 0:8]\n",
    "Y = array[:, 8]"
   ]
  },
  {
   "cell_type": "markdown",
   "metadata": {
    "colab_type": "text",
    "id": "DkdaCX28OA7B"
   },
   "source": [
    "- We will use **RFE** with the **logistic regression** algorithm to select the top **3** features.\n",
    "\n",
    "- The choice of algorithm does not matter too much as long as it is skillful and consistent."
   ]
  },
  {
   "cell_type": "code",
   "execution_count": 16,
   "metadata": {
    "colab": {},
    "colab_type": "code",
    "id": "PrCs6gaKgoNS"
   },
   "outputs": [
    {
     "name": "stderr",
     "output_type": "stream",
     "text": [
      "D:\\Ana\\lib\\site-packages\\sklearn\\utils\\validation.py:68: FutureWarning: Pass n_features_to_select=3 as keyword args. From version 0.25 passing these as positional arguments will result in an error\n",
      "  warnings.warn(\"Pass {} as keyword args. From version 0.25 \"\n"
     ]
    }
   ],
   "source": [
    "# Feature extraction\n",
    "model = LogisticRegression(solver='liblinear')\n",
    "rfe = RFE(model, 3)\n",
    "fit = rfe.fit(X, Y)"
   ]
  },
  {
   "cell_type": "code",
   "execution_count": null,
   "metadata": {
    "colab": {
     "base_uri": "https://localhost:8080/",
     "height": 67
    },
    "colab_type": "code",
    "executionInfo": {
     "elapsed": 946,
     "status": "ok",
     "timestamp": 1591693621960,
     "user": {
      "displayName": "Mohit Raj",
      "photoUrl": "",
      "userId": "08119631072718595861"
     },
     "user_tz": -330
    },
    "id": "eBiJDfs8fs-e",
    "outputId": "f16fd0df-e121-4228-defb-d220f84c27e0"
   },
   "outputs": [],
   "source": [
    "print(\"Num Features: %d\" % fit.n_features_)\n",
    "print(\"Selected Features: %s\" % fit.support_)\n",
    "print(\"Feature Ranking: %s\" % fit.ranking_)"
   ]
  },
  {
   "cell_type": "code",
   "execution_count": null,
   "metadata": {
    "colab": {},
    "colab_type": "code",
    "id": "pqxqD46_Rrgj"
   },
   "outputs": [],
   "source": [
    "# Creating a list of feature names\n",
    "feature_names = dataframe.iloc[:, 0:8].columns"
   ]
  },
  {
   "cell_type": "code",
   "execution_count": 17,
   "metadata": {
    "colab": {
     "base_uri": "https://localhost:8080/",
     "height": 151
    },
    "colab_type": "code",
    "executionInfo": {
     "elapsed": 1742,
     "status": "ok",
     "timestamp": 1591693623999,
     "user": {
      "displayName": "Mohit Raj",
      "photoUrl": "",
      "userId": "08119631072718595861"
     },
     "user_tz": -330
    },
    "id": "BEWeQuwBRrhO",
    "outputId": "77d693ef-80a4-42b8-a9fa-6117a576300f"
   },
   "outputs": [
    {
     "name": "stdout",
     "output_type": "stream",
     "text": [
      "Support and Rank of mass : True ( 1 )\n",
      "Support and Rank of pedi : True ( 1 )\n",
      "Support and Rank of preg : True ( 1 )\n",
      "Support and Rank of plas : False ( 2 )\n",
      "Support and Rank of pres : False ( 3 )\n",
      "Support and Rank of age : False ( 4 )\n",
      "Support and Rank of skin : False ( 5 )\n",
      "Support and Rank of test : False ( 6 )\n"
     ]
    }
   ],
   "source": [
    "# Printing the score and rank of each feature\n",
    "for rank, support, name in sorted(zip(fit.ranking_, fit.support_, feature_names)):\n",
    "    print('Support and Rank of', name, ':', support, '(', rank, ')')"
   ]
  },
  {
   "cell_type": "markdown",
   "metadata": {
    "colab_type": "text",
    "id": "eF4W03Cffs-i"
   },
   "source": [
    "- We can see that RFE chose the the top **3** features as `preg`, `mass` and `pedi`.\n",
    "\n",
    "- These are marked **True** in the `support_` array and marked with a choice **“1”** in the `ranking_` array.\n",
    "\n",
    "- These features can be **selected** to be used for training the model."
   ]
  },
  {
   "cell_type": "markdown",
   "metadata": {
    "colab_type": "text",
    "id": "6rCHwpnlffgA"
   },
   "source": [
    "<a id = Section4></a>\n",
    "### **4. Principal Component Analysis (PCA)**"
   ]
  },
  {
   "cell_type": "markdown",
   "metadata": {
    "colab_type": "text",
    "id": "txutZKwKfti8"
   },
   "source": [
    "- **Principal Component Analysis** (or **PCA**) uses **linear algebra** to **transform** the dataset into a **compressed** form.\n",
    "\n",
    "- Generally this is called a **data reduction** technique.\n",
    "\n",
    "- A property of PCA is that you can **choose** the **number** of **dimensions** or **principal components** in the transformed result."
   ]
  },
  {
   "cell_type": "code",
   "execution_count": 18,
   "metadata": {
    "colab": {},
    "colab_type": "code",
    "id": "3wqZwzsVfti9"
   },
   "outputs": [],
   "source": [
    "from sklearn.decomposition import PCA"
   ]
  },
  {
   "cell_type": "code",
   "execution_count": 19,
   "metadata": {
    "colab": {},
    "colab_type": "code",
    "id": "F5UJp3ZchSUb"
   },
   "outputs": [],
   "source": [
    "array = dataframe.values"
   ]
  },
  {
   "cell_type": "code",
   "execution_count": 20,
   "metadata": {
    "colab": {},
    "colab_type": "code",
    "id": "5_RohpEvhSLx"
   },
   "outputs": [],
   "source": [
    "X = array[:, 0:8]\n",
    "Y = array[:, 8]"
   ]
  },
  {
   "cell_type": "markdown",
   "metadata": {
    "colab_type": "text",
    "id": "IDaOuysqS209"
   },
   "source": [
    "- We will use **PCA** and select **3 principal components**."
   ]
  },
  {
   "cell_type": "code",
   "execution_count": null,
   "metadata": {
    "colab": {},
    "colab_type": "code",
    "id": "5X2RV_a9hW04"
   },
   "outputs": [],
   "source": [
    "# Feature extraction\n",
    "pca = PCA(n_components=3)\n",
    "fit = pca.fit(X)"
   ]
  },
  {
   "cell_type": "code",
   "execution_count": null,
   "metadata": {
    "colab": {
     "base_uri": "https://localhost:8080/",
     "height": 118
    },
    "colab_type": "code",
    "executionInfo": {
     "elapsed": 1295,
     "status": "ok",
     "timestamp": 1591693646041,
     "user": {
      "displayName": "Mohit Raj",
      "photoUrl": "",
      "userId": "08119631072718595861"
     },
     "user_tz": -330
    },
    "id": "HnyJwIl9TokG",
    "outputId": "09fc269a-2aef-41f5-8f81-5ecc6bfb4ee9"
   },
   "outputs": [],
   "source": [
    "print(fit.components_)"
   ]
  },
  {
   "cell_type": "code",
   "execution_count": null,
   "metadata": {
    "colab": {
     "base_uri": "https://localhost:8080/",
     "height": 50
    },
    "colab_type": "code",
    "executionInfo": {
     "elapsed": 1304,
     "status": "ok",
     "timestamp": 1591693651144,
     "user": {
      "displayName": "Mohit Raj",
      "photoUrl": "",
      "userId": "08119631072718595861"
     },
     "user_tz": -330
    },
    "id": "74uOsJ2PftjB",
    "outputId": "a173e4be-0da1-413b-b707-85f952ad5113"
   },
   "outputs": [],
   "source": [
    "# Summarize components\n",
    "print('Explained Variance: %s' % fit.explained_variance_ratio_)\n",
    "print('Total Explained Variance: %s' % fit.explained_variance_ratio_.sum())"
   ]
  },
  {
   "cell_type": "markdown",
   "metadata": {
    "colab_type": "text",
    "id": "TDVf59_9ftjD"
   },
   "source": [
    "- You can see that the **transformed** dataset (3 principal components) bare **little resemblance** to the source data.\n",
    "\n",
    "- Our **3** principal components explain **97.59% variance** in the data.\n",
    "\n",
    "- This new dataset can be used to train the model."
   ]
  },
  {
   "cell_type": "markdown",
   "metadata": {
    "colab_type": "text",
    "id": "VMIQHrTVff3S"
   },
   "source": [
    "<a id = Section5></a>\n",
    "### **5. Choosing Important Features (Feature Importance)**"
   ]
  },
  {
   "cell_type": "markdown",
   "metadata": {
    "colab_type": "text",
    "id": "4tPnvN5ofvtJ"
   },
   "source": [
    "- We can objectively estimate the **importance** of features using **Bagged Decision Trees** like **Random Forest** and **Extra Trees**. \n",
    "\n",
    "- This can be helpful as a **precursor** to **selecting features**.\n",
    "\n",
    "  - Features are allocated **scores** and can then be **ranked** by their scores.\n",
    "\n",
    "- Those features with the **highest scores** can be **selected** for inclusion in the training dataset, whereas those **remaining** can be **ignored**."
   ]
  },
  {
   "cell_type": "code",
   "execution_count": null,
   "metadata": {
    "colab": {},
    "colab_type": "code",
    "id": "6Tg1SBTVWEty"
   },
   "outputs": [],
   "source": [
    "import matplotlib.pyplot as plt\n",
    "%matplotlib inline"
   ]
  },
  {
   "cell_type": "code",
   "execution_count": null,
   "metadata": {
    "colab": {},
    "colab_type": "code",
    "id": "CUMz-N3fxIv2"
   },
   "outputs": [],
   "source": [
    "from sklearn.ensemble import ExtraTreesClassifier"
   ]
  },
  {
   "cell_type": "code",
   "execution_count": null,
   "metadata": {
    "colab": {},
    "colab_type": "code",
    "id": "Mw5VFM49hmbH"
   },
   "outputs": [],
   "source": [
    "array = dataframe.values"
   ]
  },
  {
   "cell_type": "code",
   "execution_count": null,
   "metadata": {
    "colab": {},
    "colab_type": "code",
    "id": "y2ymHzWIhmbK"
   },
   "outputs": [],
   "source": [
    "X = array[:, 0:8]\n",
    "Y = array[:, 8]"
   ]
  },
  {
   "cell_type": "markdown",
   "metadata": {
    "colab_type": "text",
    "id": "X2_uaGlUU7tv"
   },
   "source": [
    "- **Fitting** the data on an `ExtraTreesClassifier` with **10** trees."
   ]
  },
  {
   "cell_type": "code",
   "execution_count": null,
   "metadata": {
    "colab": {
     "base_uri": "https://localhost:8080/",
     "height": 151
    },
    "colab_type": "code",
    "executionInfo": {
     "elapsed": 1837,
     "status": "ok",
     "timestamp": 1591693665657,
     "user": {
      "displayName": "Mohit Raj",
      "photoUrl": "",
      "userId": "08119631072718595861"
     },
     "user_tz": -330
    },
    "id": "nmfitezLxJHO",
    "outputId": "f1a8a96d-1fe3-42f2-9bb6-9ba8f632afa2"
   },
   "outputs": [],
   "source": [
    "# Feature extraction\n",
    "model = ExtraTreesClassifier(n_estimators=10)\n",
    "model.fit(X, Y)"
   ]
  },
  {
   "cell_type": "code",
   "execution_count": null,
   "metadata": {
    "colab": {},
    "colab_type": "code",
    "id": "wC8e7JDj4FRU"
   },
   "outputs": [],
   "source": [
    "# Creating a list of feature names\n",
    "feature_names = dataframe.iloc[:, 0:8].columns"
   ]
  },
  {
   "cell_type": "code",
   "execution_count": null,
   "metadata": {
    "colab": {
     "base_uri": "https://localhost:8080/",
     "height": 151
    },
    "colab_type": "code",
    "executionInfo": {
     "elapsed": 1376,
     "status": "ok",
     "timestamp": 1591693677246,
     "user": {
      "displayName": "Mohit Raj",
      "photoUrl": "",
      "userId": "08119631072718595861"
     },
     "user_tz": -330
    },
    "id": "f617ka4N4FRZ",
    "outputId": "7422f0f3-cffd-481b-b33e-6b808caf6f35"
   },
   "outputs": [],
   "source": [
    "# Checking the feature importances of various features.\n",
    "# Sorting the importances by descending order (lowest importance at the bottom).\n",
    "\n",
    "for score, name in sorted(zip(model.feature_importances_, feature_names), reverse=True):\n",
    "    print('Feature importance of', name, ':', score*100, '%')"
   ]
  },
  {
   "cell_type": "markdown",
   "metadata": {
    "colab_type": "text",
    "id": "dfkfXx2zinXE"
   },
   "source": [
    "- The `plas` column has the **highest** feature importance with **22.86%**, followed by `age` and `mass`.\n",
    "\n",
    "- The `test` column has the **least** importance.\n",
    "\n",
    "- We can **plot** the feature **importances** for a better visualization."
   ]
  },
  {
   "cell_type": "code",
   "execution_count": null,
   "metadata": {
    "colab": {
     "base_uri": "https://localhost:8080/",
     "height": 498
    },
    "colab_type": "code",
    "executionInfo": {
     "elapsed": 1690,
     "status": "ok",
     "timestamp": 1591693849386,
     "user": {
      "displayName": "Mohit Raj",
      "photoUrl": "",
      "userId": "08119631072718595861"
     },
     "user_tz": -330
    },
    "id": "374P-pBSilnj",
    "outputId": "536fd014-47c4-44b7-b394-b0d211f6edf0"
   },
   "outputs": [],
   "source": [
    "# Plotting the Feature Importance of each feature.\n",
    "plt.figure(figsize=(12, 7))\n",
    "plt.bar(feature_names, model.feature_importances_*100, color='green')\n",
    "plt.xlabel('Features', fontsize=14)\n",
    "plt.ylabel('Importance', fontsize=14)\n",
    "plt.xticks(rotation=90)\n",
    "plt.title('Feature Importance of each Feature', fontsize=16)"
   ]
  },
  {
   "cell_type": "markdown",
   "metadata": {
    "colab_type": "text",
    "id": "Cb5J8oLKxJU4"
   },
   "source": [
    "- We can **drop** the **least important** features by **iteratively training** a model on **1 less feature**, and **evaluating** the model performance."
   ]
  }
 ],
 "metadata": {
  "colab": {
   "authorship_tag": "ABX9TyNcb13mza8zOAQWlmAI6TMJ",
   "collapsed_sections": [],
   "name": "Feature Selection.ipynb",
   "provenance": [],
   "toc_visible": true
  },
  "kernelspec": {
   "display_name": "Python 3",
   "language": "python",
   "name": "python3"
  },
  "language_info": {
   "codemirror_mode": {
    "name": "ipython",
    "version": 3
   },
   "file_extension": ".py",
   "mimetype": "text/x-python",
   "name": "python",
   "nbconvert_exporter": "python",
   "pygments_lexer": "ipython3",
   "version": "3.8.3"
  }
 },
 "nbformat": 4,
 "nbformat_minor": 1
}
